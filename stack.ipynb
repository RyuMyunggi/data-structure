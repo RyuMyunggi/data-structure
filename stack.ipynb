{
  "nbformat": 4,
  "nbformat_minor": 0,
  "metadata": {
    "colab": {
      "name": "stack.ipynb",
      "provenance": [],
      "authorship_tag": "ABX9TyPFsHkN4n4V+DUbWLnHLOjC",
      "include_colab_link": true
    },
    "kernelspec": {
      "name": "python3",
      "display_name": "Python 3"
    },
    "language_info": {
      "name": "python"
    }
  },
  "cells": [
    {
      "cell_type": "markdown",
      "metadata": {
        "id": "view-in-github",
        "colab_type": "text"
      },
      "source": [
        "<a href=\"https://colab.research.google.com/github/RyuMyunggi/data-structure/blob/main/stack.ipynb\" target=\"_parent\"><img src=\"https://colab.research.google.com/assets/colab-badge.svg\" alt=\"Open In Colab\"/></a>"
      ]
    },
    {
      "cell_type": "markdown",
      "source": [
        "## Stack 스택\n",
        "* 스택은 배열의 끝에서만 데이터를 접근할 수있는 선형 자료구조\n",
        "* 스택은 배열 인덱스 접근이 제한되며 후입 선출(LIFO: Last In First Out)구조\n",
        "* 스택의 동작은 다음과 같으며 사간 복잡도는 O(1)이다\n",
        "* 스택은 깊이 우선 탐색(DFS)에서 유용하게 사용됨\n",
        "* 파이썬에서는 리스트의 append(), pop() 메서드로 스택을 구현할 수 있음\n",
        "\n",
        "### Stack method\n",
        "* push: 스택 맨 끝(맨 위)에 항목을 삽입\n",
        "* pop: 스택 맨 끝 항목을 반환하는 동시에 제거\n",
        "* top/peek: 스택 맨 끝 항목을 조회\n",
        "* empty: 스택이 비어 있는지 확인\n",
        "* size: 스택의 크기를 확인\n"
      ],
      "metadata": {
        "id": "zoYE77z2Eg6w"
      }
    },
    {
      "cell_type": "code",
      "execution_count": 2,
      "metadata": {
        "colab": {
          "base_uri": "https://localhost:8080/"
        },
        "id": "kxkYLyoLEdVO",
        "outputId": "850db6ab-2afb-41d2-ca61-2aee66bae39e"
      },
      "outputs": [
        {
          "output_type": "stream",
          "name": "stdout",
          "text": [
            "스택이 비었나요? True\n",
            "스택에 숫자 0~9를 추가합니다\n",
            "스택 크기: 10\n",
            "peek: 9\n",
            "pop: 9\n",
            "스택이 비었나요 ? False\n",
            "[0, 1, 2, 3, 4, 5, 6, 7, 8]\n"
          ]
        }
      ],
      "source": [
        "class Stack(object):\n",
        "  def __init__(self):\n",
        "    self.items = []\n",
        "\n",
        "  def isEmpty(self):\n",
        "    return not bool(self.items)\n",
        "  \n",
        "  def push(self, value):\n",
        "    self.items.append(value)\n",
        "\n",
        "  def pop(self):\n",
        "    value = self.items.pop()\n",
        "    if value is not None:\n",
        "      return value\n",
        "    else:\n",
        "      print('Stack is empty')\n",
        "\n",
        "  def size(self):\n",
        "    return len(self.items)\n",
        "\n",
        "  def peek(self):\n",
        "    if self.items:\n",
        "      return self.items[-1]\n",
        "    else:\n",
        "      print('Stack is empty')\n",
        "\n",
        "  def __repr__(self):\n",
        "    return repr(self.items)\n",
        "\n",
        "stack = Stack()\n",
        "print(f'스택이 비었나요? {stack.isEmpty()}')\n",
        "print('스택에 숫자 0~9를 추가합니다')\n",
        "for i in range(10):\n",
        "  stack.push(i)\n",
        "\n",
        "print(f'스택 크기: {stack.size()}')\n",
        "print(f'peek: {stack.peek()}')\n",
        "print(f'pop: {stack.pop()}')\n",
        "print(f'스택이 비었나요 ? {stack.isEmpty()}')\n",
        "print(stack)"
      ]
    },
    {
      "cell_type": "code",
      "source": [
        "## 노드(객체)의 컨테이너로 스택을 구현\n",
        "\n",
        "class Node(object):\n",
        "  def __init__(self, value=None, pointer=None):\n",
        "    self.value = value\n",
        "    self.pointer = pointer\n",
        "\n",
        "\n",
        "class Stack(object):\n",
        "  def __init__(self):\n",
        "    self.head = None\n",
        "    self.count = 0\n",
        "\n",
        "  def isEmpty(self):\n",
        "    return not bool(self.head)\n",
        "\n",
        "  def push(self, item):\n",
        "    self.head = Node(item, self.head)\n",
        "    self.count += 1\n",
        "\n",
        "  def pop(self):\n",
        "    if self.count > 0 and self.head:\n",
        "      node = self.head\n",
        "      self.head = node.pointer\n",
        "      self.count -= 1\n",
        "      return node.value\n",
        "    else:\n",
        "      print('Stack is empty')\n",
        "\n",
        "  def peek(self):\n",
        "    if self.count > 0 and self.head:\n",
        "      return self.head.value\n",
        "    else:\n",
        "      print('Stack is empty')\n",
        "\n",
        "  def size(self):\n",
        "    return self.count\n",
        "\n",
        "  def _printList(self):\n",
        "    node = self.head\n",
        "    while node:\n",
        "      print(node.value, end=' ')\n",
        "      node = node.pointer\n",
        "    print()\n",
        "\n",
        "stack = Stack()\n",
        "print(f'스택이 비었나요? {stack.isEmpty()}')\n",
        "print('스택에 숫자 0~9를 추가합니다')\n",
        "for i in range(10):\n",
        "  stack.push(i)\n",
        "\n",
        "stack._printList()\n",
        "print(f'스택 크기: {stack.size()}')\n",
        "print(f'peek: {stack.peek()}')\n",
        "print(f'pop: {stack.pop()}')\n",
        "print(f'스택이 비었나요 ? {stack.isEmpty()}')\n",
        "stack._printList()"
      ],
      "metadata": {
        "colab": {
          "base_uri": "https://localhost:8080/"
        },
        "id": "EmDITQJyIdK6",
        "outputId": "d0f6c98c-a20c-48ca-b0ab-be6529029a6f"
      },
      "execution_count": 3,
      "outputs": [
        {
          "output_type": "stream",
          "name": "stdout",
          "text": [
            "스택이 비었나요? True\n",
            "스택에 숫자 0~9를 추가합니다\n",
            "9 8 7 6 5 4 3 2 1 0 \n",
            "스택 크기: 10\n",
            "peek: 9\n",
            "pop: 9\n",
            "스택이 비었나요 ? False\n",
            "8 7 6 5 4 3 2 1 0 \n"
          ]
        }
      ]
    }
  ]
}