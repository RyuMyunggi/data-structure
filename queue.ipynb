{
  "nbformat": 4,
  "nbformat_minor": 0,
  "metadata": {
    "colab": {
      "name": "queue.ipynb",
      "provenance": [],
      "authorship_tag": "ABX9TyOncAc2RQ2EJU8KgwEhO0L5",
      "include_colab_link": true
    },
    "kernelspec": {
      "name": "python3",
      "display_name": "Python 3"
    },
    "language_info": {
      "name": "python"
    }
  },
  "cells": [
    {
      "cell_type": "markdown",
      "metadata": {
        "id": "view-in-github",
        "colab_type": "text"
      },
      "source": [
        "<a href=\"https://colab.research.google.com/github/RyuMyunggi/data-structure/blob/main/queue.ipynb\" target=\"_parent\"><img src=\"https://colab.research.google.com/assets/colab-badge.svg\" alt=\"Open In Colab\"/></a>"
      ]
    },
    {
      "cell_type": "markdown",
      "source": [
        "## Queue 큐\n",
        "* 스택과 다르게 항목이 들어온 순서대로 접근이 가능\n",
        "* 즉 먼저 들어온 데이터가 먼저나가는 선입선출(FIFO, First In First Out) 구조\n",
        "* 큐 역시 배열의 인텍스 접근이 제한\n",
        "* 시간 복잡도는 모두 O(1)\n",
        "* 큐는 너비 우선 탑색에 사용됨 \n",
        "\n",
        "## Queue 메서드\n",
        "* enqueue: 큐 뒤쪽에 항목을 삽입\n",
        "* dequeue: 큐 앞쪽의 항목을 반환하고 제거\n",
        "* peek / front: 큐 앞쪽의 항목을 조회\n",
        "* empty: 큐가 비어 있는지 확인\n",
        "* size: 큐의 크기를 확인"
      ],
      "metadata": {
        "id": "uCnGRZFqTqOp"
      }
    },
    {
      "cell_type": "code",
      "execution_count": 5,
      "metadata": {
        "colab": {
          "base_uri": "https://localhost:8080/"
        },
        "id": "tM9To6mSTidP",
        "outputId": "2ec1d789-7f5c-4fa2-faa1-0bc72ba683df"
      },
      "outputs": [
        {
          "output_type": "stream",
          "name": "stdout",
          "text": [
            "큐가 비었나요 ? True\n",
            "큐에 숫자를 추가합니다\n",
            "큐의 크기 10\n",
            "peek 0\n",
            "dequeue: 0\n",
            "큐가 비었나요 ? False\n",
            "[9, 8, 7, 6, 5, 4, 3, 2, 1]\n"
          ]
        }
      ],
      "source": [
        "class Queue(object):\n",
        "  def __init__(self):\n",
        "    self.items = []\n",
        "  \n",
        "  def isEmpty(self):\n",
        "    return not bool(self.items)\n",
        "\n",
        "  def enqueue(self, item):\n",
        "    self.items.insert(0, item)\n",
        "\n",
        "  def dequeue(self):\n",
        "    value = self.items.pop()\n",
        "    if value is not None:\n",
        "      return value\n",
        "    else:\n",
        "      print('Queue is empty')\n",
        "\n",
        "  def size(self):\n",
        "    return len(self.items)\n",
        "\n",
        "  def peek(self):\n",
        "    if self.items:\n",
        "      return self.items[-1]\n",
        "    else:\n",
        "      print('Queue is empty')\n",
        "\n",
        "  def __repr__(self):\n",
        "    return repr(self.items)\n",
        "\n",
        "queue = Queue()\n",
        "print(f'큐가 비었나요 ? {queue.isEmpty()}')\n",
        "print(f'큐에 숫자를 추가합니다')\n",
        "for i in range(10):\n",
        "  queue.enqueue(i)\n",
        "\n",
        "print(f'큐의 크기 {queue.size()}')\n",
        "print(f'peek {queue.peek()}')\n",
        "print(f'dequeue: {queue.dequeue()}')\n",
        "print(f'큐가 비었나요 ? {queue.isEmpty()}')\n",
        "print(queue)\n"
      ]
    },
    {
      "cell_type": "code",
      "source": [
        "class Queue(object):\n",
        "  def __init__(self):\n",
        "    self.in_stack = []\n",
        "    self.out_stack = []\n",
        "  \n",
        "  def _transfer(self):\n",
        "    while self.in_stack:\n",
        "      self.out_stack.append(self.in_stack.pop())\n",
        "  \n",
        "  def enqueue(self, item):\n",
        "    return self.in_stack.append(item)\n",
        "\n",
        "  def dequeue(self):\n",
        "    if not self.out_stack:\n",
        "      self._transfer()\n",
        "    if self.out_stack:\n",
        "      return self.out_stack.pop()\n",
        "    else:\n",
        "      print('Queue is Empty')\n",
        "\n",
        "  def size(self):\n",
        "    return len(self.in_stack) + len(self.out_stack)\n",
        "\n",
        "  def peek(self):\n",
        "    if not self.out_stack:\n",
        "      self._transfer()\n",
        "    if self.out_stack:\n",
        "      return self.out_stack[-1]\n",
        "    else:\n",
        "      print('Queue is Empty')\n",
        "  \n",
        "  def __repr__(self):\n",
        "    if not self.out_stack:\n",
        "      self._transfer()\n",
        "    if self.out_stack:\n",
        "      return repr(self.out_stack)\n",
        "    else:\n",
        "      print('Queue is Empty')\n",
        "\n",
        "  def isEmpty(self):\n",
        "    return not bool(self.in_stack) or bool(self.out_stack)\n",
        "\n",
        "queue = Queue()\n",
        "print(f'큐가 비었나요 ? {queue.isEmpty()}')\n",
        "print(f'큐에 숫자를 추가합니다')\n",
        "for i in range(10):\n",
        "  queue.enqueue(i)\n",
        "\n",
        "print(f'큐의 크기 {queue.size()}')\n",
        "print(f'peek {queue.peek()}')\n",
        "print(f'dequeue: {queue.dequeue()}')\n",
        "print(f'큐가 비었나요 ? {queue.isEmpty()}')\n",
        "print(queue)"
      ],
      "metadata": {
        "colab": {
          "base_uri": "https://localhost:8080/"
        },
        "id": "StqZdg39WX1R",
        "outputId": "d381a5f7-d0ac-405b-e09e-974c96f99418"
      },
      "execution_count": 2,
      "outputs": [
        {
          "output_type": "stream",
          "name": "stdout",
          "text": [
            "큐가 비었나요 ? True\n",
            "큐에 숫자를 추가합니다\n",
            "큐의 크기 10\n",
            "peek 0\n",
            "dequeue: 0\n",
            "큐가 비었나요 ? True\n",
            "[9, 8, 7, 6, 5, 4, 3, 2, 1]\n"
          ]
        }
      ]
    },
    {
      "cell_type": "code",
      "source": [
        "## 노드(객체)의 컨테이너로 큐를 구현\n",
        "\n",
        "class Node(object):\n",
        "  def __init__(self, value=None, pointer=None):\n",
        "    self.value = value\n",
        "    self.pointer = None\n",
        "\n",
        "class LinkedQueue(object):\n",
        "  def __init__(self):\n",
        "    self.head = None\n",
        "    self.tail = None\n",
        "    self.count = 0\n",
        "\n",
        "  def isEmpty(self):\n",
        "    return not bool(self.head)\n",
        "\n",
        "  def dequeue(self):\n",
        "    if self.head:\n",
        "      value = self.head.value\n",
        "      self.head = self.head.pointer\n",
        "      self.count -= 1\n",
        "      return value\n",
        "    else:\n",
        "      print('Queue is empty')\n",
        "\n",
        "  def enqueue(self, value):\n",
        "    node = Node(value)\n",
        "    if not self.head:\n",
        "      self.head = node\n",
        "      self.tail = node\n",
        "    else:\n",
        "      if self.tail:\n",
        "        self.tail.pointer = node\n",
        "      self.tail = node\n",
        "    self.count += 1\n",
        "\n",
        "  def size(self):\n",
        "    return self.count\n",
        "\n",
        "  def peek(self):\n",
        "    return len(self.count)\n",
        "  \n",
        "  def peek(self):\n",
        "    return self.head.value\n",
        "\n",
        "  def print(self):\n",
        "    node = self.head\n",
        "    while node:\n",
        "      print(node.value, end=' ')\n",
        "      node = node.pointer\n",
        "    print()\n",
        "\n",
        "queue = Queue()\n",
        "print(f'큐가 비었나요 ? {queue.isEmpty()}')\n",
        "print(f'큐에 숫자를 추가합니다')\n",
        "for i in range(10):\n",
        "  queue.enqueue(i)\n",
        "\n",
        "print(f'큐의 크기 {queue.size()}')\n",
        "print(f'peek {queue.peek()}')\n",
        "print(f'dequeue: {queue.dequeue()}')\n",
        "print(f'큐가 비었나요 ? {queue.isEmpty()}')\n",
        "print(queue)"
      ],
      "metadata": {
        "colab": {
          "base_uri": "https://localhost:8080/"
        },
        "id": "_Ct7lKhlYJ0w",
        "outputId": "b91d54a0-5049-40e7-db27-c3ee66d46c67"
      },
      "execution_count": 3,
      "outputs": [
        {
          "output_type": "stream",
          "name": "stdout",
          "text": [
            "큐가 비었나요 ? True\n",
            "큐에 숫자를 추가합니다\n",
            "큐의 크기 10\n",
            "peek 0\n",
            "dequeue: 0\n",
            "큐가 비었나요 ? True\n",
            "[9, 8, 7, 6, 5, 4, 3, 2, 1]\n"
          ]
        }
      ]
    },
    {
      "cell_type": "markdown",
      "source": [
        "## Deque: 데크\n",
        "* 데크는 스택과 큐의 결합체\n",
        "* 양쪽 끝에서 항목의 조회, 삽입, 삭제가 가능"
      ],
      "metadata": {
        "id": "iBkrst1yUZAg"
      }
    },
    {
      "cell_type": "code",
      "source": [
        "class Deque(Queue):\n",
        "  def enqueue_back(self, item):\n",
        "    self.items.append(item)\n",
        "  \n",
        "  def dequeue_front(self):\n",
        "    value = self.items.pop(0)\n",
        "    if value is not None:\n",
        "      return value\n",
        "    else:\n",
        "      print('Dequeue is empty')\n",
        "\n",
        "deque = Deque()\n",
        "print(f'데크(Dequeue)가 비었나요? {deque.isEmpty()}')\n",
        "for i in range(10):\n",
        "  deque.enqueue(i)\n",
        "\n",
        "print(f'데크의 크기 {deque.size()}')\n",
        "print(f'peek {deque.peek()}')\n",
        "print(f'dequeue: {deque.dequeue()}')\n",
        "print(f'데크가 비었나요 ? {deque.isEmpty()}')\n",
        "print()\n",
        "\n",
        "print(f'데크 {deque}')\n",
        "print(f'dequeue {deque.dequeue_front()}')\n",
        "print(f'peek: {queue.peek()}')\n",
        "print(f'데크 {queue}')\n",
        "print(f'enequeue_back(50)을 수행합니다')\n",
        "deque.enqueue_back(50)\n",
        "\n",
        "print(f'peek: {deque.peek()}')\n",
        "print(f'데크: {deque}')\n",
        "\n",
        "\n"
      ],
      "metadata": {
        "colab": {
          "base_uri": "https://localhost:8080/"
        },
        "id": "28Ea32L4UYnf",
        "outputId": "03b4b7da-5d87-4d3f-d68d-e404f47b1bb7"
      },
      "execution_count": 6,
      "outputs": [
        {
          "output_type": "stream",
          "name": "stdout",
          "text": [
            "데크(Dequeue)가 비었나요? True\n",
            "데크의 크기 10\n",
            "peek 0\n",
            "dequeue: 0\n",
            "데크가 비었나요 ? False\n",
            "\n",
            "데크 [9, 8, 7, 6, 5, 4, 3, 2, 1]\n",
            "dequeue 9\n",
            "peek: 1\n",
            "데크 [9, 8, 7, 6, 5, 4, 3, 2, 1]\n",
            "enequeue_back(50)을 수행합니다\n",
            "peek: 50\n",
            "데크: [8, 7, 6, 5, 4, 3, 2, 1, 50]\n"
          ]
        }
      ]
    },
    {
      "cell_type": "markdown",
      "source": [
        ""
      ],
      "metadata": {
        "id": "o3n-mqcgWXU1"
      }
    }
  ]
}