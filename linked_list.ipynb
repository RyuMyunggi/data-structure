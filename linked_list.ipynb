{
  "cells": [
    {
      "cell_type": "markdown",
      "metadata": {
        "id": "view-in-github",
        "colab_type": "text"
      },
      "source": [
        "<a href=\"https://colab.research.google.com/github/RyuMyunggi/data-structure/blob/main/linked_list.ipynb\" target=\"_parent\"><img src=\"https://colab.research.google.com/assets/colab-badge.svg\" alt=\"Open In Colab\"/></a>"
      ]
    },
    {
      "cell_type": "markdown",
      "metadata": {
        "id": "UZnTqIWvwvau"
      },
      "source": [
        "## Linked List: 연결리스트\n",
        "* 각 노드가 데이터와 다음 노드에 대한 포인터를 가지고 한 줄로 연결되어 있는 방식으로 데이터를 저장하는 자료 구조\n",
        "* 노드: 데이터 저장단위 (데이터 값, 포인터)로 구성됨.\n",
        "* 포인터: 각 노드 안에서 다음이나 이전의 노드와의 연결 정보를 가지고 있는 공간\n",
        "* 마지막 노드는 None 값을 가짐\n",
        "* 이름에서 말하듯 데이터를 담고 잇는 노드들이 연결되어 노드의 포인터가 다음이나 이전 노드와의 연결을 담당\n",
        "* 연결리스트로 스택과 큐를 구현할 수 있음\n",
        "\n",
        "![스크린샷 2021-12-20 오후 9.06.22.png](data:image/png;base64,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)"
      ]
    },
    {
      "cell_type": "markdown",
      "source": [
        "## 연결 리스트 특징\n",
        "* 배열은 순차적으로 연결된 공간에 데이터를 나열하는 데이터 구조\n",
        "* 링크드 리스트는 떨어진 곳에 존재하는 데이터를 화살표로 연결하는 데이터구조\n",
        "* 파이썬의 리스트 타입이 링크드 리스트의 기능을 모두 지원\n",
        "\n",
        "### 장점\n",
        "* 배열은 미리 데이터의 공간을 할당해야하지만 링크드 리스트는 미리 데이터 공간을 할당하지 않아도됨\n",
        "* 데이터의 이동 없이 중간에 삽입 / 삭제 가능\n",
        "\n",
        "### 단점\n",
        "* 랜덤 엑세스가 불가능\n",
        "  * 데이터를 연결된 주소에 저장하는 것이 아니라 따로 떨어트려서 저장하고 그 들의 주소를 이어서 만든 구조이므로 원하는 주소로 바로 접근하지 못하고 노드 주소칸을 계속 타고 넘어야 원하는 주소로 도달할 수 있음. (==연결 정보를 찾는 시간이 필요하므로 접근 속도가 느림)\n",
        "* 중간 데이터 삭제시, 앞뒤 데이터 연결을 재 구성하는 부가적인 작업이 필요\n",
        "* Head의 주소는 반드시 기억해야함\n",
        "  * 따라서 메모리를 해제할 때도 반드시 뒤에서부터 해제해야함. 만약 head의 주소를 일어버리게 되면 뒤쪽 원소들을 탐색하거나 데이터를 삽입/삭제하는 등의 연산ㅇ르 수행할 수 없음\n",
        "* 캐싱에 적합하지 않음.\n",
        "  * 연결 리스트 탐색은 Loop를 돌아야함. O(n)의 시간 복잡도를 가짐. 배열 리스트 탐색을 O(1)의 시간 복잡도를 갖음. 하지만 실제 계산해보면 배열 리스트 탐색이 압도적으로 빠르다\n",
        "  * 바로 컴퓨터 안에 이 있는 캐시라는 저장공간 떄문. 배열 리스트의 경우 같은 타입의 데이터들은 연속된 메모리 공간에 저장되어 있음. 때문에 메모리에서 캐시로 데이터를 넘길 때 이 데이터들이 한 번에 같이 넘어가 매우 빨리 처리할 수 있음. 하지만 연결 리스트의 경우데이터를 메모리 곳곳에 저장한 뒤 이들을 주소로만 연결해놓은 구조이기 때문에 데이터가 캐시로 한번에 넘어오지 못하고 CPU가 이들이 넘어올 떄까지 기다려야 하므로 처리속도가 매우 느려짐\n",
        "* 복잡한 연산에 오버헤드 발생\n",
        "  * 일반적인 배열 리스트 연산보다 연결리스트의 연산들이 훨씬 복잡함. 따라서 모든 연산을 수행할 떄 더 많은 명령어가 필요하고 때문에 더 많은 오버헤드가 발생\n",
        "* 주소 저장으로 인한 공간 낭비\n",
        "  * 연결리스트의 겨우 데이터 이외에도 주소에 대한 정보를 반드시 가지고 있어야 하기 때문에 주소에 대한 용량이 소모. 일반적으로 정수형 리스트의 경우 데이터와 주소를 저장하기 때문에 배열 리스트와 비교하여 2배의 용량이 필요하다 (== 연결을 위한 별도 데이터 공간이 필요하므로, 저장 공간 효율이 낮음)"
      ],
      "metadata": {
        "id": "Bt1JUKVLvoV0"
      }
    },
    {
      "cell_type": "code",
      "execution_count": 3,
      "metadata": {
        "colab": {
          "base_uri": "https://localhost:8080/"
        },
        "id": "WhJOiFaDwgf1",
        "outputId": "a9aa9d03-8696-4da5-e42b-40e01210c954"
      },
      "outputs": [
        {
          "output_type": "stream",
          "name": "stdout",
          "text": [
            "a\n",
            "b\n",
            "aa\n",
            "e\n"
          ]
        }
      ],
      "source": [
        "class Node(object):\n",
        "  def __init__(self, value=None, pointer=None):\n",
        "    self.value = value\n",
        "    self.pointer = pointer\n",
        "\n",
        "  def getData(self):\n",
        "    return self.value\n",
        "\n",
        "  def getNext(self):\n",
        "    return self.pointer\n",
        "\n",
        "  def setData(self, new_data):\n",
        "    self.value = new_data\n",
        "  \n",
        "  def setNext(self, new_pointer):\n",
        "    self.pointer = new_pointer\n",
        "\n",
        "\n",
        "L = Node('a', Node('b', Node('c', Node('d'))))\n",
        "assert(L.pointer.pointer.value=='c')\n",
        "\n",
        "print(L.getData())\n",
        "print(L.getNext().getData())\n",
        "L.setData('aa')\n",
        "L.setNext(Node('e'))\n",
        "print(L.getData())\n",
        "print(L.getNext().getData())"
      ]
    },
    {
      "cell_type": "code",
      "execution_count": 6,
      "metadata": {
        "colab": {
          "base_uri": "https://localhost:8080/"
        },
        "id": "-3xvxEk_yPYp",
        "outputId": "7c0fd4f0-1f84-4440-b15b-4904942358eb"
      },
      "outputs": [
        {
          "output_type": "stream",
          "name": "stdout",
          "text": [
            "연결 리스트 출력\n",
            "4 3 2 1 \n",
            "인덱스가 2인 노드 삭제 후, 연결 리스트 출력: \n",
            "4 3 1 \n",
            "인덱스가 3인 노드 삭제 후, 연결 리스트 출력: \n",
            "4 1 \n",
            "값이 15인 노드 추가 후, 연결 리스트 출력: \n",
            "15 4 1 \n",
            "모든 노드 삭제 후, 연결 리스트 출력\n",
            "\n"
          ]
        }
      ],
      "source": [
        "## 위의 노드들로 이루어진 후입선출(LIFO) 연결리스트 구현\n",
        "\n",
        "class LinkedListLIFO(object):\n",
        "  def __init__(self):\n",
        "    self.head = None\n",
        "    self.length = 0\n",
        "\n",
        "  def _printList(self):\n",
        "    node = self.head\n",
        "    while node:\n",
        "      print(node.value, end=' ')\n",
        "      node = node.pointer\n",
        "    print()\n",
        "\n",
        "  def _delete(self, prev, node):\n",
        "    self.length -= 1\n",
        "    if not prev:\n",
        "      self.head = node.pointer\n",
        "    else:\n",
        "      prev.pointer = node.pointer\n",
        "\n",
        "  def _add(self, value):\n",
        "    self.length += 1\n",
        "    self.head = Node(value, self.head)\n",
        "\n",
        "  def _find(self, index):\n",
        "    prev = None\n",
        "    node = self.head\n",
        "    i = 0\n",
        "    while node and i < index:\n",
        "      prev = node\n",
        "      node = node.pointer\n",
        "      i += 1\n",
        "    return node, prev, i\n",
        "\n",
        "  def _find_by_value(self, value):\n",
        "    prev = None\n",
        "    node = self.head\n",
        "    found = False\n",
        "    while node and not found:\n",
        "      if node.value == value:\n",
        "        found = True\n",
        "      else:\n",
        "        prev = node\n",
        "        node = node.pointer\n",
        "    return node, prev, found\n",
        "\n",
        "  def deleteNode(self, index):\n",
        "    node, prev, i = self._find(index)\n",
        "    if index == i:\n",
        "      self._delete(prev, node)\n",
        "    else:\n",
        "      print(f'인덱스 {index}에 해당하는 노드가 없습니다')\n",
        "\n",
        "  def deleteNodeByValue(self, value):\n",
        "    node, prev, found = self._find_by_value(value)\n",
        "    if found:\n",
        "      self._delete(prev, node)\n",
        "    else:\n",
        "      print(f'값 {value}에 해당하는 노드가 없습니다')\n",
        "\n",
        "\n",
        "ll = LinkedListLIFO()\n",
        "for i in range(1, 5):\n",
        "  ll._add(i)\n",
        "print('연결 리스트 출력')\n",
        "ll._printList()\n",
        "print('인덱스가 2인 노드 삭제 후, 연결 리스트 출력: ')\n",
        "ll.deleteNode(2)\n",
        "ll._printList()\n",
        "print('인덱스가 3인 노드 삭제 후, 연결 리스트 출력: ')\n",
        "ll.deleteNodeByValue(3)\n",
        "ll._printList()\n",
        "print('값이 15인 노드 추가 후, 연결 리스트 출력: ')\n",
        "ll._add(15)\n",
        "ll._printList()\n",
        "print('모든 노드 삭제 후, 연결 리스트 출력')\n",
        "for i in range(ll.length-1, -1, -1):\n",
        "  ll.deleteNode(i)\n",
        "ll._printList()"
      ]
    },
    {
      "cell_type": "code",
      "execution_count": 9,
      "metadata": {
        "colab": {
          "base_uri": "https://localhost:8080/"
        },
        "id": "4Z9v2mkysT9i",
        "outputId": "3bd96744-9cad-4f19-fe94-5bae95053862"
      },
      "outputs": [
        {
          "output_type": "stream",
          "name": "stdout",
          "text": [
            "연결 리스트 출력\n",
            "1 2 3 4 \n",
            "인덱스가 2인 노드 삭제 후, 연결 리스트 출력: \n",
            "1 2 4 \n",
            "값이 15인 노드 추가 후, 연결 리스트 출력\n",
            "1 2 4 15 \n",
            "모든 노드 삭제 후, 연결 리스트 출력\n",
            "연결 리스트가 비었습니다\n",
            "\n"
          ]
        }
      ],
      "source": [
        "class LinkedListFIFO(object):\n",
        "  def __init__(self):\n",
        "    self.head = None\n",
        "    self.length = 0\n",
        "    self.tail = None\n",
        "\n",
        "  def _printList(self):\n",
        "    node = self.head\n",
        "    while node:\n",
        "      print(node.value, end=' ')\n",
        "      node = node.pointer\n",
        "    print()\n",
        "\n",
        "  def _addFirst(self, value):\n",
        "    self.length = 1\n",
        "    node = Node(value)\n",
        "    self.head = node\n",
        "    self.tail = node\n",
        "\n",
        "  def _deleteFirst(self):\n",
        "    self.length = 0\n",
        "    self.head = None\n",
        "    self.tail = None\n",
        "    print('연결 리스트가 비었습니다')\n",
        "\n",
        "  def _add(self, value):\n",
        "    self.length += 1\n",
        "    node = Node(value)\n",
        "    if self.tail:\n",
        "      self.tail.pointer = node\n",
        "    self.tail = node\n",
        "\n",
        "  def addNode(self, value):\n",
        "    if not self.head:\n",
        "      self._addFirst(value)\n",
        "    else:\n",
        "      self._add(value)\n",
        "\n",
        "  def _find(self, index):\n",
        "    prev = None\n",
        "    node = self.head\n",
        "    i = 0\n",
        "    while node and i < index:\n",
        "      prev = node\n",
        "      node = node.pointer\n",
        "      i += 1\n",
        "\n",
        "    return node, prev, i\n",
        "\n",
        "  def _find_by_value(self, value):\n",
        "    prev = None\n",
        "    node = self.head\n",
        "    found = False\n",
        "    while node and not found:\n",
        "      if node.value == value:\n",
        "        found = True\n",
        "      else:\n",
        "        prev = node\n",
        "        node = node.pointer\n",
        "      \n",
        "    return node, prev, found\n",
        "\n",
        "  def deleteNode(self, index):\n",
        "    if not self.head or not self.head.pointer:\n",
        "      self._deleteFirst()\n",
        "    else:\n",
        "      node, prev, i = self._find(index)\n",
        "      if i == index and node:\n",
        "        self.length -= 1\n",
        "        if i == 0 or not prev:\n",
        "          self.head = node.pointer\n",
        "          self.tail = node.pointer\n",
        "        else:\n",
        "          prev.pointer = node.pointer\n",
        "      else:\n",
        "        print(f'인덱스 {index}에 해당하는 노드가 없습니다')\n",
        "  \n",
        "  def deleteNodeByValue(self, value):\n",
        "    if not self.head or not self.head.pointer:\n",
        "      self._deleteFirst()\n",
        "    else:\n",
        "      node, prev, i = self._find_by_value(value)\n",
        "      if node and node.value == value:\n",
        "        self.length -= 1\n",
        "        if i ==0 or not prev:\n",
        "          self.head = node.pointer\n",
        "          self.tail = node.pointer\n",
        "        else:\n",
        "          prev.pointer = node.pointer\n",
        "      else:\n",
        "        print(f'값 {value}에 해당하는 노드가 없습니다')\n",
        "\n",
        "\n",
        "ll = LinkedListFIFO()\n",
        "for i in range(1, 5):\n",
        "  ll.addNode(i)\n",
        "print('연결 리스트 출력')\n",
        "ll._printList()\n",
        "print('인덱스가 2인 노드 삭제 후, 연결 리스트 출력: ')\n",
        "ll.deleteNode(2)\n",
        "ll._printList()\n",
        "\n",
        "print('값이 15인 노드 추가 후, 연결 리스트 출력')\n",
        "ll.addNode(15)\n",
        "ll._printList()\n",
        "print('모든 노드 삭제 후, 연결 리스트 출력')\n",
        "for i in range(ll.length-1, -1, -1):\n",
        "  ll.deleteNode(i)\n",
        "ll._printList()\n"
      ]
    },
    {
      "cell_type": "markdown",
      "source": [
        "## 참고자료\n",
        "* https://www.fun-coding.org/Chapter07-linkedlist.html\n",
        "* https://gusdnd852.tistory.com/100\n",
        "* https://ybworld.tistory.com/85\n",
        "* https://eunchankim-dev.tistory.com/45"
      ],
      "metadata": {
        "id": "xklZyG3V2TBS"
      }
    }
  ],
  "metadata": {
    "colab": {
      "name": "linked-list.ipynb",
      "provenance": [],
      "authorship_tag": "ABX9TyPPl+2LZmOvb+94u/WCCekc",
      "include_colab_link": true
    },
    "kernelspec": {
      "display_name": "Python 3",
      "name": "python3"
    },
    "language_info": {
      "name": "python"
    }
  },
  "nbformat": 4,
  "nbformat_minor": 0
}