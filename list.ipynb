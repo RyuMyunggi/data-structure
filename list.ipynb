{
  "nbformat": 4,
  "nbformat_minor": 0,
  "metadata": {
    "colab": {
      "name": "list.ipynb",
      "provenance": [],
      "authorship_tag": "ABX9TyNO1XwyZQcZwFC9K8MjFHk6",
      "include_colab_link": true
    },
    "kernelspec": {
      "name": "python3",
      "display_name": "Python 3"
    },
    "language_info": {
      "name": "python"
    }
  },
  "cells": [
    {
      "cell_type": "markdown",
      "metadata": {
        "id": "view-in-github",
        "colab_type": "text"
      },
      "source": [
        "<a href=\"https://colab.research.google.com/github/RyuMyunggi/data-structure/blob/main/list.ipynb\" target=\"_parent\"><img src=\"https://colab.research.google.com/assets/colab-badge.svg\" alt=\"Open In Colab\"/></a>"
      ]
    },
    {
      "cell_type": "markdown",
      "source": [
        "## List: 리스트\n",
        "* 리스트는 배열이 가지고 있는 인덱스라는 장점을 버리고 데이터의 적재라는 장점을 취한 데이터 스트럭쳐\n",
        "* 각 엘리먼트간의 순서가 리스트의 핵심임. 리스트를 다른 말로는 sequence라고도 함. 즉 순서가 있는 데이터의 모임\n",
        "* 아이템들의 메모리 주소가 연속적일 수도 있고 아닐 수도 있음\n",
        "  * 예를 들어 linked-list의 각 아이템들은 메모리 상에서 모두 흩어져 있을 수도 있음\n",
        "  * 따라서 다음 아이템의 메모리 주소를 간단히 계산할 수 없음\n",
        "* 배열처럼 아이템에 직접 접근하기 위해서 인덱스를 사용할 수 없음(배열의 인덱스는 고유 pk, 리스트에서의 인덱스는 순서정도의 개념. 값 자체에 대한 식별은 불가)\n",
        "* 배열과 달리 데이터의 크기가 동적. 데이터의 갯수가 확실하게 정해져 있고, 자주 사용된다면 array가 더 효율적\n",
        "* 포인터를 통해 다음 데이터 위치를 가리키므로 삽입, 삭제 용이\n",
        "\n",
        "## 파이썬에서의 list\n",
        "* 파이썬에서 리스트는 배열처럼 구현이 되어있음\n",
        "* 파이썬 리스트의 아이템들은 메모리 상의 연속적인 위치에 배치되며 인덱스를 사용하여 접근이 가능함\n",
        "* pop(), append() 등을 사용하여 파이썬의 리스트를 스택처럼 사용 가능\n",
        "* 파이썬의 리스트의 근본은 배열이지만 high-level의 기능이 추가 된 것\n",
        "* 자료구조를 공부 할 때는 파이썬의 리스트를 단순 배열로 취급"
      ],
      "metadata": {
        "id": "m8vIArzqpe0m"
      }
    },
    {
      "cell_type": "code",
      "execution_count": null,
      "metadata": {
        "id": "VkYKdANipWiw"
      },
      "outputs": [],
      "source": [
        ""
      ]
    }
  ]
}