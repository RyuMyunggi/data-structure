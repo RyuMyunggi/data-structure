{
  "nbformat": 4,
  "nbformat_minor": 0,
  "metadata": {
    "colab": {
      "name": "hash-table.ipynb",
      "provenance": [],
      "mount_file_id": "1ZyY2uMlXoaiL3P1q5RYnD3IjJnoTRDmB",
      "authorship_tag": "ABX9TyP4gPBQIZGwuh8rzUyQNMHZ",
      "include_colab_link": true
    },
    "kernelspec": {
      "name": "python3",
      "display_name": "Python 3"
    },
    "language_info": {
      "name": "python"
    }
  },
  "cells": [
    {
      "cell_type": "markdown",
      "metadata": {
        "id": "view-in-github",
        "colab_type": "text"
      },
      "source": [
        "<a href=\"https://colab.research.google.com/github/RyuMyunggi/data-structure/blob/main/hash_table.ipynb\" target=\"_parent\"><img src=\"https://colab.research.google.com/assets/colab-badge.svg\" alt=\"Open In Colab\"/></a>"
      ]
    },
    {
      "cell_type": "code",
      "source": [
        "from google.colab import drive\n",
        "drive.mount('/content/drive')"
      ],
      "metadata": {
        "id": "unjEnN_v_pCN"
      },
      "execution_count": null,
      "outputs": []
    },
    {
      "cell_type": "markdown",
      "source": [
        "## Hasgh Table: 해시테이블\n",
        "* 키를 값에 연결하여 하나의 키가 0 또는 1개의 값과 연관됨\n",
        "* 각 키는 해시 함수를 계산할 수 있어야함\n",
        "* 해시테이블은 해시 버킷 배열로 구성됨\n",
        "* 두 개의 키가 동일한 버킷에 해시될 때, 문제가 발생. 이를 해시 충돌이라고 함\n",
        "* 이를 해겨하는 방법은 각 버킷에 대해 키-값 쌍의 연결리스트를 저장하는 것\n",
        "* 해시 테이블의 조회, 삽입, 삭제의 시간 복잡도는 O(1)\n",
        "* 최악의 경우 각 키가 동일한 버킷으로 해시 된다면 각 작업의 시간 복잡도는 O(n)"
      ],
      "metadata": {
        "id": "Psy8Y_Ld_Duu"
      }
    },
    {
      "cell_type": "code",
      "execution_count": 5,
      "metadata": {
        "colab": {
          "base_uri": "https://localhost:8080/"
        },
        "id": "t6HWntxw--cq",
        "outputId": "1c527dd5-6cb6-46e8-d5ae-a049a94ae99e"
      },
      "outputs": [
        {
          "output_type": "stream",
          "name": "stdout",
          "text": [
            "연결 리스트 출력\n",
            "1 2 3 4 \n",
            "인덱스가 2인 노드 삭제 후, 연결 리스트 출력: \n",
            "1 2 4 \n",
            "값이 15인 노드 추가 후, 연결 리스트 출력\n",
            "1 2 4 15 \n",
            "모든 노드 삭제 후, 연결 리스트 출력\n",
            "연결 리스트가 비었습니다\n",
            "\n"
          ]
        }
      ],
      "source": [
        "## linked-list\n",
        "class Node(object):\n",
        "  def __init__(self, value=None, pointer=None):\n",
        "    self.value = value\n",
        "    self.pointer = pointer\n",
        "\n",
        "  def getData(self):\n",
        "    return self.value\n",
        "\n",
        "  def getNext(self):\n",
        "    return self.pointer\n",
        "\n",
        "  def setData(self, new_data):\n",
        "    self.value = new_data\n",
        "  \n",
        "  def setNext(self, new_pointer):\n",
        "    self.pointer = new_pointer\n",
        "\n",
        "class LinkedListFIFO(object):\n",
        "  def __init__(self):\n",
        "    self.head = None\n",
        "    self.length = 0\n",
        "    self.tail = None\n",
        "\n",
        "  def _printList(self):\n",
        "    node = self.head\n",
        "    while node:\n",
        "      print(node.value, end=' ')\n",
        "      node = node.pointer\n",
        "    print()\n",
        "\n",
        "  def _addFirst(self, value):\n",
        "    self.length = 1\n",
        "    node = Node(value)\n",
        "    self.head = node\n",
        "    self.tail = node\n",
        "\n",
        "  def _deleteFirst(self):\n",
        "    self.length = 0\n",
        "    self.head = None\n",
        "    self.tail = None\n",
        "    print('연결 리스트가 비었습니다')\n",
        "\n",
        "  def _add(self, value):\n",
        "    self.length += 1\n",
        "    node = Node(value)\n",
        "    if self.tail:\n",
        "      self.tail.pointer = node\n",
        "    self.tail = node\n",
        "\n",
        "  def addNode(self, value):\n",
        "    if not self.head:\n",
        "      self._addFirst(value)\n",
        "    else:\n",
        "      self._add(value)\n",
        "\n",
        "  def _find(self, index):\n",
        "    prev = None\n",
        "    node = self.head\n",
        "    i = 0\n",
        "    while node and i < index:\n",
        "      prev = node\n",
        "      node = node.pointer\n",
        "      i += 1\n",
        "\n",
        "    return node, prev, i\n",
        "\n",
        "  def _find_by_value(self, value):\n",
        "    prev = None\n",
        "    node = self.head\n",
        "    found = False\n",
        "    while node and not found:\n",
        "      if node.value == value:\n",
        "        found = True\n",
        "      else:\n",
        "        prev = node\n",
        "        node = node.pointer\n",
        "      \n",
        "    return node, prev, found\n",
        "\n",
        "  def deleteNode(self, index):\n",
        "    if not self.head or not self.head.pointer:\n",
        "      self._deleteFirst()\n",
        "    else:\n",
        "      node, prev, i = self._find(index)\n",
        "      if i == index and node:\n",
        "        self.length -= 1\n",
        "        if i == 0 or not prev:\n",
        "          self.head = node.pointer\n",
        "          self.tail = node.pointer\n",
        "        else:\n",
        "          prev.pointer = node.pointer\n",
        "      else:\n",
        "        print(f'인덱스 {index}에 해당하는 노드가 없습니다')\n",
        "  \n",
        "  def deleteNodeByValue(self, value):\n",
        "    if not self.head or not self.head.pointer:\n",
        "      self._deleteFirst()\n",
        "    else:\n",
        "      node, prev, i = self._find_by_value(value)\n",
        "      if node and node.value == value:\n",
        "        self.length -= 1\n",
        "        if i ==0 or not prev:\n",
        "          self.head = node.pointer\n",
        "          self.tail = node.pointer\n",
        "        else:\n",
        "          prev.pointer = node.pointer\n",
        "      else:\n",
        "        print(f'값 {value}에 해당하는 노드가 없습니다')\n",
        "\n",
        "\n",
        "ll = LinkedListFIFO()\n",
        "for i in range(1, 5):\n",
        "  ll.addNode(i)\n",
        "print('연결 리스트 출력')\n",
        "ll._printList()\n",
        "print('인덱스가 2인 노드 삭제 후, 연결 리스트 출력: ')\n",
        "ll.deleteNode(2)\n",
        "ll._printList()\n",
        "\n",
        "print('값이 15인 노드 추가 후, 연결 리스트 출력')\n",
        "ll.addNode(15)\n",
        "ll._printList()\n",
        "print('모든 노드 삭제 후, 연결 리스트 출력')\n",
        "for i in range(ll.length-1, -1, -1):\n",
        "  ll.deleteNode(i)\n",
        "ll._printList()\n"
      ]
    },
    {
      "cell_type": "code",
      "source": [
        "class HashTableLL(object):\n",
        "  def __init__(self, size):\n",
        "    self.size = size\n",
        "    self.slots = []\n",
        "    self._createHashTable()\n",
        "\n",
        "  def _createHashTable(self):\n",
        "    for i in range(self.size):\n",
        "      self.slots.append(LinkedListFIFO())\n",
        "\n",
        "  def _find(self, item):\n",
        "    return item % self.size\n",
        "  \n",
        "  def _add(self, item):\n",
        "    index = self._find(item)\n",
        "    self.slots[index].addNode(item)\n",
        "\n",
        "  def _delete(self, item):\n",
        "    index = self._find(item)\n",
        "    self.slots[index].deleteNodeByValue(item)\n",
        "\n",
        "  def _print(self):\n",
        "    for i in range(self.size):\n",
        "      print(f'슬롯 {i}')\n",
        "      self.slots[i]._printList()\n",
        "\n",
        "def test_hash_tables():\n",
        "  H1 = HashTableLL(3)\n",
        "  for i in range(0, 20):\n",
        "    H1._add(i)\n",
        "  H1._print()\n",
        "  print('\\n항목 0,1,2를 삭제합니다')\n",
        "  H1._delete(0)\n",
        "  H1._delete(1)\n",
        "  H1._delete(2)\n",
        "  H1._print()\n",
        "\n",
        "test_hash_tables()"
      ],
      "metadata": {
        "colab": {
          "base_uri": "https://localhost:8080/"
        },
        "id": "Cj8QhBbHDaX_",
        "outputId": "08f4d166-1797-4166-ac9d-4b79881f173e"
      },
      "execution_count": 7,
      "outputs": [
        {
          "output_type": "stream",
          "name": "stdout",
          "text": [
            "슬롯 0\n",
            "0 3 6 9 12 15 18 \n",
            "슬롯 1\n",
            "1 4 7 10 13 16 19 \n",
            "슬롯 2\n",
            "2 5 8 11 14 17 \n",
            "\n",
            "항목 0,1,2를 삭제합니다\n",
            "슬롯 0\n",
            "3 6 9 12 15 18 \n",
            "슬롯 1\n",
            "4 7 10 13 16 19 \n",
            "슬롯 2\n",
            "5 8 11 14 17 \n"
          ]
        }
      ]
    },
    {
      "cell_type": "code",
      "source": [
        ""
      ],
      "metadata": {
        "id": "BuyUijMkDXsX"
      },
      "execution_count": null,
      "outputs": []
    },
    {
      "cell_type": "code",
      "source": [
        ""
      ],
      "metadata": {
        "id": "tfXN5MnwDTkC"
      },
      "execution_count": null,
      "outputs": []
    }
  ]
}